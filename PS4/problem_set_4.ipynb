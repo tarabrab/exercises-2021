{
 "cells": [
  {
   "cell_type": "markdown",
   "metadata": {},
   "source": [
    "# Problem set 4: Analyzing data"
   ]
  },
  {
   "cell_type": "markdown",
   "metadata": {},
   "source": [
    "[<img src=\"https://mybinder.org/badge_logo.svg\">](https://mybinder.org/v2/gh/NumEconCopenhagen/exercises-2020/master?urlpath=lab/tree/PS4/problem_set_4.ipynb)"
   ]
  },
  {
   "cell_type": "code",
   "execution_count": 1,
   "metadata": {},
   "outputs": [],
   "source": [
    "import numpy as np\n",
    "import matplotlib.pyplot as plt\n",
    "plt.style.use('seaborn-whitegrid')\n",
    "import pandas as pd\n",
    "import pydst\n",
    "dst = pydst.Dst(lang='en')"
   ]
  },
  {
   "cell_type": "markdown",
   "metadata": {},
   "source": [
    "# Tasks"
   ]
  },
  {
   "cell_type": "markdown",
   "metadata": {},
   "source": [
    "## Import national account data from Denmark Statistics"
   ]
  },
  {
   "cell_type": "markdown",
   "metadata": {},
   "source": [
    "Consider the following dictionary definitions:"
   ]
  },
  {
   "cell_type": "code",
   "execution_count": 2,
   "metadata": {},
   "outputs": [],
   "source": [
    "columns_dict = {}\n",
    "columns_dict['TRANSAKT'] = 'variable'\n",
    "columns_dict['PRISENHED'] = 'unit'\n",
    "columns_dict['TID'] = 'year'\n",
    "columns_dict['INDHOLD'] = 'value'\n",
    "\n",
    "var_dict = {} # var is for variable\n",
    "var_dict['P.1 Output'] = 'Y'\n",
    "var_dict['P.3 Final consumption expenditure'] = 'C'\n",
    "var_dict['P.3 Government consumption expenditure'] = 'G'\n",
    "var_dict['P.5 Gross capital formation'] = 'I'\n",
    "var_dict['P.6 Export of goods and services'] = 'X'\n",
    "var_dict['P.7 Import of goods and services'] = 'M'\n",
    "\n",
    "unit_dict = {}\n",
    "unit_dict['2010-prices, chained values'] = 'real'\n",
    "unit_dict['Current prices'] = 'nominal'"
   ]
  },
  {
   "cell_type": "markdown",
   "metadata": {},
   "source": [
    "**Step 1:** Download all of table `nah1`."
   ]
  },
  {
   "cell_type": "code",
   "execution_count": 3,
   "metadata": {},
   "outputs": [],
   "source": [
    "# hint, nah1 = dst.get_data(table_id = '?', variables={'TRANSAKT':[?], 'PRISENHED':[?], 'TID':[?]})"
   ]
  },
  {
   "cell_type": "markdown",
   "metadata": {},
   "source": [
    "**Step 2:** Rename the columns using `columns_dict` and replace data using `var_dict` and `unit_dict`."
   ]
  },
  {
   "cell_type": "code",
   "execution_count": 4,
   "metadata": {},
   "outputs": [],
   "source": [
    "# hint, nah1_true.rename(?,inplace=True)\n",
    "\n",
    "# for key,value in var_dict.items():\n",
    "#   nah1.variable.replace(?)\n",
    "\n",
    "#for key,value in unit_dict.items():\n",
    "#   nah1.unit.replace(?)"
   ]
  },
  {
   "cell_type": "markdown",
   "metadata": {},
   "source": [
    "**Step 3:** Only keep rows where the variable is in `[Y, C, G, I, X, M]`. Afterwards convert the `value` column to a float."
   ]
  },
  {
   "cell_type": "code",
   "execution_count": 5,
   "metadata": {},
   "outputs": [],
   "source": [
    "# write you code here\n",
    "# nah1.value = nah1.value.astype('float')"
   ]
  },
  {
   "cell_type": "markdown",
   "metadata": {},
   "source": [
    "**Step 4:** Discuss what the following summary statistics show."
   ]
  },
  {
   "cell_type": "code",
   "execution_count": 6,
   "metadata": {},
   "outputs": [],
   "source": [
    "# nah1_true.groupby(['variable','unit']).describe()"
   ]
  },
  {
   "cell_type": "markdown",
   "metadata": {},
   "source": [
    "**Answer:**"
   ]
  },
  {
   "cell_type": "code",
   "execution_count": 7,
   "metadata": {
    "jupyter": {
     "source_hidden": true
    }
   },
   "outputs": [
    {
     "data": {
      "text/html": [
       "<div>\n",
       "<style scoped>\n",
       "    .dataframe tbody tr th:only-of-type {\n",
       "        vertical-align: middle;\n",
       "    }\n",
       "\n",
       "    .dataframe tbody tr th {\n",
       "        vertical-align: top;\n",
       "    }\n",
       "\n",
       "    .dataframe thead tr th {\n",
       "        text-align: left;\n",
       "    }\n",
       "\n",
       "    .dataframe thead tr:last-of-type th {\n",
       "        text-align: right;\n",
       "    }\n",
       "</style>\n",
       "<table border=\"1\" class=\"dataframe\">\n",
       "  <thead>\n",
       "    <tr>\n",
       "      <th></th>\n",
       "      <th></th>\n",
       "      <th colspan=\"8\" halign=\"left\">year</th>\n",
       "      <th colspan=\"8\" halign=\"left\">value</th>\n",
       "    </tr>\n",
       "    <tr>\n",
       "      <th></th>\n",
       "      <th></th>\n",
       "      <th>count</th>\n",
       "      <th>mean</th>\n",
       "      <th>std</th>\n",
       "      <th>min</th>\n",
       "      <th>25%</th>\n",
       "      <th>50%</th>\n",
       "      <th>75%</th>\n",
       "      <th>max</th>\n",
       "      <th>count</th>\n",
       "      <th>mean</th>\n",
       "      <th>std</th>\n",
       "      <th>min</th>\n",
       "      <th>25%</th>\n",
       "      <th>50%</th>\n",
       "      <th>75%</th>\n",
       "      <th>max</th>\n",
       "    </tr>\n",
       "    <tr>\n",
       "      <th>variable</th>\n",
       "      <th>unit</th>\n",
       "      <th></th>\n",
       "      <th></th>\n",
       "      <th></th>\n",
       "      <th></th>\n",
       "      <th></th>\n",
       "      <th></th>\n",
       "      <th></th>\n",
       "      <th></th>\n",
       "      <th></th>\n",
       "      <th></th>\n",
       "      <th></th>\n",
       "      <th></th>\n",
       "      <th></th>\n",
       "      <th></th>\n",
       "      <th></th>\n",
       "      <th></th>\n",
       "    </tr>\n",
       "  </thead>\n",
       "  <tbody>\n",
       "    <tr>\n",
       "      <th rowspan=\"2\" valign=\"top\">C</th>\n",
       "      <th>nominal</th>\n",
       "      <td>54.0</td>\n",
       "      <td>1992.5</td>\n",
       "      <td>15.732133</td>\n",
       "      <td>1966.0</td>\n",
       "      <td>1979.25</td>\n",
       "      <td>1992.5</td>\n",
       "      <td>2005.75</td>\n",
       "      <td>2019.0</td>\n",
       "      <td>54.0</td>\n",
       "      <td>7.524963e+05</td>\n",
       "      <td>4.946441e+05</td>\n",
       "      <td>62576.0</td>\n",
       "      <td>300574.00</td>\n",
       "      <td>690838.5</td>\n",
       "      <td>1190102.50</td>\n",
       "      <td>1638006.0</td>\n",
       "    </tr>\n",
       "    <tr>\n",
       "      <th>real</th>\n",
       "      <td>54.0</td>\n",
       "      <td>1992.5</td>\n",
       "      <td>15.732133</td>\n",
       "      <td>1966.0</td>\n",
       "      <td>1979.25</td>\n",
       "      <td>1992.5</td>\n",
       "      <td>2005.75</td>\n",
       "      <td>2019.0</td>\n",
       "      <td>54.0</td>\n",
       "      <td>1.041583e+06</td>\n",
       "      <td>2.693538e+05</td>\n",
       "      <td>549491.0</td>\n",
       "      <td>847003.50</td>\n",
       "      <td>985547.0</td>\n",
       "      <td>1310552.75</td>\n",
       "      <td>1507829.0</td>\n",
       "    </tr>\n",
       "    <tr>\n",
       "      <th rowspan=\"2\" valign=\"top\">G</th>\n",
       "      <th>nominal</th>\n",
       "      <td>54.0</td>\n",
       "      <td>1992.5</td>\n",
       "      <td>15.732133</td>\n",
       "      <td>1966.0</td>\n",
       "      <td>1979.25</td>\n",
       "      <td>1992.5</td>\n",
       "      <td>2005.75</td>\n",
       "      <td>2019.0</td>\n",
       "      <td>54.0</td>\n",
       "      <td>2.548865e+05</td>\n",
       "      <td>1.760344e+05</td>\n",
       "      <td>14768.0</td>\n",
       "      <td>95488.75</td>\n",
       "      <td>228970.0</td>\n",
       "      <td>402510.75</td>\n",
       "      <td>558036.0</td>\n",
       "    </tr>\n",
       "    <tr>\n",
       "      <th>real</th>\n",
       "      <td>54.0</td>\n",
       "      <td>1992.5</td>\n",
       "      <td>15.732133</td>\n",
       "      <td>1966.0</td>\n",
       "      <td>1979.25</td>\n",
       "      <td>1992.5</td>\n",
       "      <td>2005.75</td>\n",
       "      <td>2019.0</td>\n",
       "      <td>54.0</td>\n",
       "      <td>3.654870e+05</td>\n",
       "      <td>1.005781e+05</td>\n",
       "      <td>171307.0</td>\n",
       "      <td>302889.25</td>\n",
       "      <td>341629.5</td>\n",
       "      <td>450260.50</td>\n",
       "      <td>524670.0</td>\n",
       "    </tr>\n",
       "    <tr>\n",
       "      <th rowspan=\"2\" valign=\"top\">I</th>\n",
       "      <th>nominal</th>\n",
       "      <td>54.0</td>\n",
       "      <td>1992.5</td>\n",
       "      <td>15.732133</td>\n",
       "      <td>1966.0</td>\n",
       "      <td>1979.25</td>\n",
       "      <td>1992.5</td>\n",
       "      <td>2005.75</td>\n",
       "      <td>2019.0</td>\n",
       "      <td>54.0</td>\n",
       "      <td>2.180079e+05</td>\n",
       "      <td>1.489821e+05</td>\n",
       "      <td>21134.0</td>\n",
       "      <td>77927.00</td>\n",
       "      <td>176581.0</td>\n",
       "      <td>328382.75</td>\n",
       "      <td>527188.0</td>\n",
       "    </tr>\n",
       "    <tr>\n",
       "      <th>real</th>\n",
       "      <td>54.0</td>\n",
       "      <td>1992.5</td>\n",
       "      <td>15.732133</td>\n",
       "      <td>1966.0</td>\n",
       "      <td>1979.25</td>\n",
       "      <td>1992.5</td>\n",
       "      <td>2005.75</td>\n",
       "      <td>2019.0</td>\n",
       "      <td>54.0</td>\n",
       "      <td>2.696939e+05</td>\n",
       "      <td>1.028857e+05</td>\n",
       "      <td>127631.0</td>\n",
       "      <td>182790.25</td>\n",
       "      <td>231070.0</td>\n",
       "      <td>347427.75</td>\n",
       "      <td>479365.0</td>\n",
       "    </tr>\n",
       "    <tr>\n",
       "      <th rowspan=\"2\" valign=\"top\">M</th>\n",
       "      <th>nominal</th>\n",
       "      <td>54.0</td>\n",
       "      <td>1992.5</td>\n",
       "      <td>15.732133</td>\n",
       "      <td>1966.0</td>\n",
       "      <td>1979.25</td>\n",
       "      <td>1992.5</td>\n",
       "      <td>2005.75</td>\n",
       "      <td>2019.0</td>\n",
       "      <td>54.0</td>\n",
       "      <td>4.170815e+05</td>\n",
       "      <td>3.470709e+05</td>\n",
       "      <td>24406.0</td>\n",
       "      <td>120802.25</td>\n",
       "      <td>278773.0</td>\n",
       "      <td>716919.75</td>\n",
       "      <td>1140654.0</td>\n",
       "    </tr>\n",
       "    <tr>\n",
       "      <th>real</th>\n",
       "      <td>54.0</td>\n",
       "      <td>1992.5</td>\n",
       "      <td>15.732133</td>\n",
       "      <td>1966.0</td>\n",
       "      <td>1979.25</td>\n",
       "      <td>1992.5</td>\n",
       "      <td>2005.75</td>\n",
       "      <td>2019.0</td>\n",
       "      <td>54.0</td>\n",
       "      <td>4.658273e+05</td>\n",
       "      <td>3.034730e+05</td>\n",
       "      <td>112171.0</td>\n",
       "      <td>212214.25</td>\n",
       "      <td>325342.0</td>\n",
       "      <td>765015.25</td>\n",
       "      <td>1075868.0</td>\n",
       "    </tr>\n",
       "    <tr>\n",
       "      <th rowspan=\"2\" valign=\"top\">X</th>\n",
       "      <th>nominal</th>\n",
       "      <td>54.0</td>\n",
       "      <td>1992.5</td>\n",
       "      <td>15.732133</td>\n",
       "      <td>1966.0</td>\n",
       "      <td>1979.25</td>\n",
       "      <td>1992.5</td>\n",
       "      <td>2005.75</td>\n",
       "      <td>2019.0</td>\n",
       "      <td>54.0</td>\n",
       "      <td>4.683807e+05</td>\n",
       "      <td>3.959874e+05</td>\n",
       "      <td>23110.0</td>\n",
       "      <td>113738.25</td>\n",
       "      <td>340299.5</td>\n",
       "      <td>796829.25</td>\n",
       "      <td>1296947.0</td>\n",
       "    </tr>\n",
       "    <tr>\n",
       "      <th>real</th>\n",
       "      <td>54.0</td>\n",
       "      <td>1992.5</td>\n",
       "      <td>15.732133</td>\n",
       "      <td>1966.0</td>\n",
       "      <td>1979.25</td>\n",
       "      <td>1992.5</td>\n",
       "      <td>2005.75</td>\n",
       "      <td>2019.0</td>\n",
       "      <td>54.0</td>\n",
       "      <td>5.443007e+05</td>\n",
       "      <td>3.450938e+05</td>\n",
       "      <td>123594.0</td>\n",
       "      <td>235550.00</td>\n",
       "      <td>436267.0</td>\n",
       "      <td>872649.00</td>\n",
       "      <td>1220323.0</td>\n",
       "    </tr>\n",
       "    <tr>\n",
       "      <th rowspan=\"2\" valign=\"top\">Y</th>\n",
       "      <th>nominal</th>\n",
       "      <td>54.0</td>\n",
       "      <td>1992.5</td>\n",
       "      <td>15.732133</td>\n",
       "      <td>1966.0</td>\n",
       "      <td>1979.25</td>\n",
       "      <td>1992.5</td>\n",
       "      <td>2005.75</td>\n",
       "      <td>2019.0</td>\n",
       "      <td>54.0</td>\n",
       "      <td>1.739697e+06</td>\n",
       "      <td>1.215356e+06</td>\n",
       "      <td>144582.0</td>\n",
       "      <td>629505.50</td>\n",
       "      <td>1496460.0</td>\n",
       "      <td>2867488.25</td>\n",
       "      <td>4079754.0</td>\n",
       "    </tr>\n",
       "    <tr>\n",
       "      <th>real</th>\n",
       "      <td>54.0</td>\n",
       "      <td>1992.5</td>\n",
       "      <td>15.732133</td>\n",
       "      <td>1966.0</td>\n",
       "      <td>1979.25</td>\n",
       "      <td>1992.5</td>\n",
       "      <td>2005.75</td>\n",
       "      <td>2019.0</td>\n",
       "      <td>54.0</td>\n",
       "      <td>2.286401e+06</td>\n",
       "      <td>7.956098e+05</td>\n",
       "      <td>1089347.0</td>\n",
       "      <td>1599582.00</td>\n",
       "      <td>2094282.0</td>\n",
       "      <td>3096363.75</td>\n",
       "      <td>3707849.0</td>\n",
       "    </tr>\n",
       "  </tbody>\n",
       "</table>\n",
       "</div>"
      ],
      "text/plain": [
       "                  year                                                       \\\n",
       "                 count    mean        std     min      25%     50%      75%   \n",
       "variable unit                                                                 \n",
       "C        nominal  54.0  1992.5  15.732133  1966.0  1979.25  1992.5  2005.75   \n",
       "         real     54.0  1992.5  15.732133  1966.0  1979.25  1992.5  2005.75   \n",
       "G        nominal  54.0  1992.5  15.732133  1966.0  1979.25  1992.5  2005.75   \n",
       "         real     54.0  1992.5  15.732133  1966.0  1979.25  1992.5  2005.75   \n",
       "I        nominal  54.0  1992.5  15.732133  1966.0  1979.25  1992.5  2005.75   \n",
       "         real     54.0  1992.5  15.732133  1966.0  1979.25  1992.5  2005.75   \n",
       "M        nominal  54.0  1992.5  15.732133  1966.0  1979.25  1992.5  2005.75   \n",
       "         real     54.0  1992.5  15.732133  1966.0  1979.25  1992.5  2005.75   \n",
       "X        nominal  54.0  1992.5  15.732133  1966.0  1979.25  1992.5  2005.75   \n",
       "         real     54.0  1992.5  15.732133  1966.0  1979.25  1992.5  2005.75   \n",
       "Y        nominal  54.0  1992.5  15.732133  1966.0  1979.25  1992.5  2005.75   \n",
       "         real     54.0  1992.5  15.732133  1966.0  1979.25  1992.5  2005.75   \n",
       "\n",
       "                         value                                         \\\n",
       "                     max count          mean           std        min   \n",
       "variable unit                                                           \n",
       "C        nominal  2019.0  54.0  7.524963e+05  4.946441e+05    62576.0   \n",
       "         real     2019.0  54.0  1.041583e+06  2.693538e+05   549491.0   \n",
       "G        nominal  2019.0  54.0  2.548865e+05  1.760344e+05    14768.0   \n",
       "         real     2019.0  54.0  3.654870e+05  1.005781e+05   171307.0   \n",
       "I        nominal  2019.0  54.0  2.180079e+05  1.489821e+05    21134.0   \n",
       "         real     2019.0  54.0  2.696939e+05  1.028857e+05   127631.0   \n",
       "M        nominal  2019.0  54.0  4.170815e+05  3.470709e+05    24406.0   \n",
       "         real     2019.0  54.0  4.658273e+05  3.034730e+05   112171.0   \n",
       "X        nominal  2019.0  54.0  4.683807e+05  3.959874e+05    23110.0   \n",
       "         real     2019.0  54.0  5.443007e+05  3.450938e+05   123594.0   \n",
       "Y        nominal  2019.0  54.0  1.739697e+06  1.215356e+06   144582.0   \n",
       "         real     2019.0  54.0  2.286401e+06  7.956098e+05  1089347.0   \n",
       "\n",
       "                                                                \n",
       "                         25%        50%         75%        max  \n",
       "variable unit                                                   \n",
       "C        nominal   300574.00   690838.5  1190102.50  1638006.0  \n",
       "         real      847003.50   985547.0  1310552.75  1507829.0  \n",
       "G        nominal    95488.75   228970.0   402510.75   558036.0  \n",
       "         real      302889.25   341629.5   450260.50   524670.0  \n",
       "I        nominal    77927.00   176581.0   328382.75   527188.0  \n",
       "         real      182790.25   231070.0   347427.75   479365.0  \n",
       "M        nominal   120802.25   278773.0   716919.75  1140654.0  \n",
       "         real      212214.25   325342.0   765015.25  1075868.0  \n",
       "X        nominal   113738.25   340299.5   796829.25  1296947.0  \n",
       "         real      235550.00   436267.0   872649.00  1220323.0  \n",
       "Y        nominal   629505.50  1496460.0  2867488.25  4079754.0  \n",
       "         real     1599582.00  2094282.0  3096363.75  3707849.0  "
      ]
     },
     "execution_count": 7,
     "metadata": {},
     "output_type": "execute_result"
    }
   ],
   "source": [
    "# a. load\n",
    "nah1_true = dst.get_data(table_id = 'NAH1', variables={'TRANSAKT':['*'], 'PRISENHED':['*'], 'TID':['*']})\n",
    "\n",
    "# b. rename and replace\n",
    "nah1_true.rename(columns=columns_dict,inplace=True)\n",
    "\n",
    "# c. replace data\n",
    "for key,value in var_dict.items():\n",
    "   nah1_true.variable.replace(key,value,inplace=True)\n",
    "\n",
    "for key,value in unit_dict.items():\n",
    "   nah1_true.unit.replace(key,value,inplace=True)\n",
    "\n",
    "# d. keep if in var_dict\n",
    "I = False\n",
    "for key,value in var_dict.items():\n",
    "    I = I | (nah1_true.variable == value)\n",
    "nah1_true = nah1_true[I]\n",
    "   \n",
    "# e. convert values to numeric\n",
    "nah1_true.value = nah1_true.value.astype('float')\n",
    "\n",
    "# d. summary statistics\n",
    "nah1_true.groupby(['variable','unit']).describe()"
   ]
  },
  {
   "cell_type": "markdown",
   "metadata": {},
   "source": [
    "## Merge with population data from Denmark Statistics"
   ]
  },
  {
   "cell_type": "markdown",
   "metadata": {},
   "source": [
    "Load population data from Denmark Statistics:"
   ]
  },
  {
   "cell_type": "code",
   "execution_count": 8,
   "metadata": {},
   "outputs": [
    {
     "data": {
      "text/html": [
       "<div>\n",
       "<style scoped>\n",
       "    .dataframe tbody tr th:only-of-type {\n",
       "        vertical-align: middle;\n",
       "    }\n",
       "\n",
       "    .dataframe tbody tr th {\n",
       "        vertical-align: top;\n",
       "    }\n",
       "\n",
       "    .dataframe thead th {\n",
       "        text-align: right;\n",
       "    }\n",
       "</style>\n",
       "<table border=\"1\" class=\"dataframe\">\n",
       "  <thead>\n",
       "    <tr style=\"text-align: right;\">\n",
       "      <th></th>\n",
       "      <th>year</th>\n",
       "      <th>population</th>\n",
       "    </tr>\n",
       "  </thead>\n",
       "  <tbody>\n",
       "    <tr>\n",
       "      <th>0</th>\n",
       "      <td>1769</td>\n",
       "      <td>797584</td>\n",
       "    </tr>\n",
       "    <tr>\n",
       "      <th>8</th>\n",
       "      <td>1787</td>\n",
       "      <td>841806</td>\n",
       "    </tr>\n",
       "    <tr>\n",
       "      <th>16</th>\n",
       "      <td>1801</td>\n",
       "      <td>929001</td>\n",
       "    </tr>\n",
       "    <tr>\n",
       "      <th>24</th>\n",
       "      <td>1834</td>\n",
       "      <td>1230964</td>\n",
       "    </tr>\n",
       "    <tr>\n",
       "      <th>32</th>\n",
       "      <td>1840</td>\n",
       "      <td>1289075</td>\n",
       "    </tr>\n",
       "  </tbody>\n",
       "</table>\n",
       "</div>"
      ],
      "text/plain": [
       "    year  population\n",
       "0   1769      797584\n",
       "8   1787      841806\n",
       "16  1801      929001\n",
       "24  1834     1230964\n",
       "32  1840     1289075"
      ]
     },
     "execution_count": 8,
     "metadata": {},
     "output_type": "execute_result"
    }
   ],
   "source": [
    "pop = dst.get_data(table_id = 'FT', variables={'HOVEDDELE':['*'], 'TID':['*']})\n",
    "pop.rename(columns={'TID':'year','INDHOLD':'population'},inplace=True)\n",
    "I = pop.HOVEDDELE == 'All Denmark'\n",
    "pop =  pop.loc[I,['year','population']]\n",
    "pop.head()"
   ]
  },
  {
   "cell_type": "markdown",
   "metadata": {},
   "source": [
    "**Question 1:** Merge the population and the national account data, so there is a new column called `population`. Use the **merge function**."
   ]
  },
  {
   "cell_type": "code",
   "execution_count": 9,
   "metadata": {},
   "outputs": [],
   "source": [
    "# hint, merged = pd.merge(?,?,how='?',on=[?])\n",
    "# merged_true.tail(10)"
   ]
  },
  {
   "cell_type": "markdown",
   "metadata": {},
   "source": [
    "**Answer:**"
   ]
  },
  {
   "cell_type": "code",
   "execution_count": 10,
   "metadata": {
    "jupyter": {
     "source_hidden": true
    }
   },
   "outputs": [
    {
     "data": {
      "text/html": [
       "<div>\n",
       "<style scoped>\n",
       "    .dataframe tbody tr th:only-of-type {\n",
       "        vertical-align: middle;\n",
       "    }\n",
       "\n",
       "    .dataframe tbody tr th {\n",
       "        vertical-align: top;\n",
       "    }\n",
       "\n",
       "    .dataframe thead th {\n",
       "        text-align: right;\n",
       "    }\n",
       "</style>\n",
       "<table border=\"1\" class=\"dataframe\">\n",
       "  <thead>\n",
       "    <tr style=\"text-align: right;\">\n",
       "      <th></th>\n",
       "      <th>variable</th>\n",
       "      <th>unit</th>\n",
       "      <th>year</th>\n",
       "      <th>value</th>\n",
       "      <th>population</th>\n",
       "    </tr>\n",
       "  </thead>\n",
       "  <tbody>\n",
       "    <tr>\n",
       "      <th>638</th>\n",
       "      <td>C</td>\n",
       "      <td>real</td>\n",
       "      <td>2019</td>\n",
       "      <td>1507829.0</td>\n",
       "      <td>5806081.0</td>\n",
       "    </tr>\n",
       "    <tr>\n",
       "      <th>639</th>\n",
       "      <td>C</td>\n",
       "      <td>nominal</td>\n",
       "      <td>2019</td>\n",
       "      <td>1638006.0</td>\n",
       "      <td>5806081.0</td>\n",
       "    </tr>\n",
       "    <tr>\n",
       "      <th>640</th>\n",
       "      <td>G</td>\n",
       "      <td>real</td>\n",
       "      <td>2019</td>\n",
       "      <td>524670.0</td>\n",
       "      <td>5806081.0</td>\n",
       "    </tr>\n",
       "    <tr>\n",
       "      <th>641</th>\n",
       "      <td>G</td>\n",
       "      <td>nominal</td>\n",
       "      <td>2019</td>\n",
       "      <td>558036.0</td>\n",
       "      <td>5806081.0</td>\n",
       "    </tr>\n",
       "    <tr>\n",
       "      <th>642</th>\n",
       "      <td>I</td>\n",
       "      <td>real</td>\n",
       "      <td>2019</td>\n",
       "      <td>479365.0</td>\n",
       "      <td>5806081.0</td>\n",
       "    </tr>\n",
       "    <tr>\n",
       "      <th>643</th>\n",
       "      <td>I</td>\n",
       "      <td>nominal</td>\n",
       "      <td>2019</td>\n",
       "      <td>527188.0</td>\n",
       "      <td>5806081.0</td>\n",
       "    </tr>\n",
       "    <tr>\n",
       "      <th>644</th>\n",
       "      <td>X</td>\n",
       "      <td>real</td>\n",
       "      <td>2019</td>\n",
       "      <td>1220323.0</td>\n",
       "      <td>5806081.0</td>\n",
       "    </tr>\n",
       "    <tr>\n",
       "      <th>645</th>\n",
       "      <td>X</td>\n",
       "      <td>nominal</td>\n",
       "      <td>2019</td>\n",
       "      <td>1296947.0</td>\n",
       "      <td>5806081.0</td>\n",
       "    </tr>\n",
       "    <tr>\n",
       "      <th>646</th>\n",
       "      <td>M</td>\n",
       "      <td>real</td>\n",
       "      <td>2019</td>\n",
       "      <td>1075868.0</td>\n",
       "      <td>5806081.0</td>\n",
       "    </tr>\n",
       "    <tr>\n",
       "      <th>647</th>\n",
       "      <td>M</td>\n",
       "      <td>nominal</td>\n",
       "      <td>2019</td>\n",
       "      <td>1140654.0</td>\n",
       "      <td>5806081.0</td>\n",
       "    </tr>\n",
       "  </tbody>\n",
       "</table>\n",
       "</div>"
      ],
      "text/plain": [
       "    variable     unit  year      value  population\n",
       "638        C     real  2019  1507829.0   5806081.0\n",
       "639        C  nominal  2019  1638006.0   5806081.0\n",
       "640        G     real  2019   524670.0   5806081.0\n",
       "641        G  nominal  2019   558036.0   5806081.0\n",
       "642        I     real  2019   479365.0   5806081.0\n",
       "643        I  nominal  2019   527188.0   5806081.0\n",
       "644        X     real  2019  1220323.0   5806081.0\n",
       "645        X  nominal  2019  1296947.0   5806081.0\n",
       "646        M     real  2019  1075868.0   5806081.0\n",
       "647        M  nominal  2019  1140654.0   5806081.0"
      ]
     },
     "execution_count": 10,
     "metadata": {},
     "output_type": "execute_result"
    }
   ],
   "source": [
    "merged_true = pd.merge(nah1_true,pop,how='left',on=['year'])\n",
    "merged_true.tail(10)"
   ]
  },
  {
   "cell_type": "markdown",
   "metadata": {},
   "source": [
    "**Question 2:** Merge the population on again, so there is a new column called `population_alt`. Use the **join method**."
   ]
  },
  {
   "cell_type": "code",
   "execution_count": 11,
   "metadata": {},
   "outputs": [],
   "source": [
    "# pop_with_index = pop.set_index(?)\n",
    "# pop_with_index.rename(columns={'population':'population_alt'},inplace=True)\n",
    "# merged_with_index = merged.set_index(?)\n",
    "# merged_alt = merged_with_index.join(?)\n",
    "# merged_alt.tail(10)"
   ]
  },
  {
   "cell_type": "markdown",
   "metadata": {},
   "source": [
    "**Answer:**"
   ]
  },
  {
   "cell_type": "code",
   "execution_count": 12,
   "metadata": {
    "jupyter": {
     "source_hidden": true
    }
   },
   "outputs": [
    {
     "data": {
      "text/html": [
       "<div>\n",
       "<style scoped>\n",
       "    .dataframe tbody tr th:only-of-type {\n",
       "        vertical-align: middle;\n",
       "    }\n",
       "\n",
       "    .dataframe tbody tr th {\n",
       "        vertical-align: top;\n",
       "    }\n",
       "\n",
       "    .dataframe thead th {\n",
       "        text-align: right;\n",
       "    }\n",
       "</style>\n",
       "<table border=\"1\" class=\"dataframe\">\n",
       "  <thead>\n",
       "    <tr style=\"text-align: right;\">\n",
       "      <th></th>\n",
       "      <th>variable</th>\n",
       "      <th>unit</th>\n",
       "      <th>value</th>\n",
       "      <th>population</th>\n",
       "      <th>population_alt</th>\n",
       "    </tr>\n",
       "    <tr>\n",
       "      <th>year</th>\n",
       "      <th></th>\n",
       "      <th></th>\n",
       "      <th></th>\n",
       "      <th></th>\n",
       "      <th></th>\n",
       "    </tr>\n",
       "  </thead>\n",
       "  <tbody>\n",
       "    <tr>\n",
       "      <th>2019</th>\n",
       "      <td>C</td>\n",
       "      <td>real</td>\n",
       "      <td>1507829.0</td>\n",
       "      <td>5806081.0</td>\n",
       "      <td>5806081.0</td>\n",
       "    </tr>\n",
       "    <tr>\n",
       "      <th>2019</th>\n",
       "      <td>C</td>\n",
       "      <td>nominal</td>\n",
       "      <td>1638006.0</td>\n",
       "      <td>5806081.0</td>\n",
       "      <td>5806081.0</td>\n",
       "    </tr>\n",
       "    <tr>\n",
       "      <th>2019</th>\n",
       "      <td>G</td>\n",
       "      <td>real</td>\n",
       "      <td>524670.0</td>\n",
       "      <td>5806081.0</td>\n",
       "      <td>5806081.0</td>\n",
       "    </tr>\n",
       "    <tr>\n",
       "      <th>2019</th>\n",
       "      <td>G</td>\n",
       "      <td>nominal</td>\n",
       "      <td>558036.0</td>\n",
       "      <td>5806081.0</td>\n",
       "      <td>5806081.0</td>\n",
       "    </tr>\n",
       "    <tr>\n",
       "      <th>2019</th>\n",
       "      <td>I</td>\n",
       "      <td>real</td>\n",
       "      <td>479365.0</td>\n",
       "      <td>5806081.0</td>\n",
       "      <td>5806081.0</td>\n",
       "    </tr>\n",
       "    <tr>\n",
       "      <th>2019</th>\n",
       "      <td>I</td>\n",
       "      <td>nominal</td>\n",
       "      <td>527188.0</td>\n",
       "      <td>5806081.0</td>\n",
       "      <td>5806081.0</td>\n",
       "    </tr>\n",
       "    <tr>\n",
       "      <th>2019</th>\n",
       "      <td>X</td>\n",
       "      <td>real</td>\n",
       "      <td>1220323.0</td>\n",
       "      <td>5806081.0</td>\n",
       "      <td>5806081.0</td>\n",
       "    </tr>\n",
       "    <tr>\n",
       "      <th>2019</th>\n",
       "      <td>X</td>\n",
       "      <td>nominal</td>\n",
       "      <td>1296947.0</td>\n",
       "      <td>5806081.0</td>\n",
       "      <td>5806081.0</td>\n",
       "    </tr>\n",
       "    <tr>\n",
       "      <th>2019</th>\n",
       "      <td>M</td>\n",
       "      <td>real</td>\n",
       "      <td>1075868.0</td>\n",
       "      <td>5806081.0</td>\n",
       "      <td>5806081.0</td>\n",
       "    </tr>\n",
       "    <tr>\n",
       "      <th>2019</th>\n",
       "      <td>M</td>\n",
       "      <td>nominal</td>\n",
       "      <td>1140654.0</td>\n",
       "      <td>5806081.0</td>\n",
       "      <td>5806081.0</td>\n",
       "    </tr>\n",
       "  </tbody>\n",
       "</table>\n",
       "</div>"
      ],
      "text/plain": [
       "     variable     unit      value  population  population_alt\n",
       "year                                                         \n",
       "2019        C     real  1507829.0   5806081.0       5806081.0\n",
       "2019        C  nominal  1638006.0   5806081.0       5806081.0\n",
       "2019        G     real   524670.0   5806081.0       5806081.0\n",
       "2019        G  nominal   558036.0   5806081.0       5806081.0\n",
       "2019        I     real   479365.0   5806081.0       5806081.0\n",
       "2019        I  nominal   527188.0   5806081.0       5806081.0\n",
       "2019        X     real  1220323.0   5806081.0       5806081.0\n",
       "2019        X  nominal  1296947.0   5806081.0       5806081.0\n",
       "2019        M     real  1075868.0   5806081.0       5806081.0\n",
       "2019        M  nominal  1140654.0   5806081.0       5806081.0"
      ]
     },
     "execution_count": 12,
     "metadata": {},
     "output_type": "execute_result"
    }
   ],
   "source": [
    "pop_with_index = pop.set_index('year')\n",
    "pop_with_index.rename(columns={'population':'population_alt'},inplace=True)\n",
    "merged_true_with_index = merged_true.set_index('year')\n",
    "merged_true_alt = merged_true_with_index.join(pop_with_index)\n",
    "merged_true_alt.tail(10)"
   ]
  },
  {
   "cell_type": "markdown",
   "metadata": {},
   "source": [
    "## Split-apply-combine-(plot)"
   ]
  },
  {
   "cell_type": "markdown",
   "metadata": {},
   "source": [
    "Consider the following **split-apply-combine-plot:**"
   ]
  },
  {
   "cell_type": "code",
   "execution_count": 13,
   "metadata": {},
   "outputs": [
    {
     "data": {
      "image/png": "[encoded data removed]",
      "text/plain": [
       "<Figure size 432x288 with 1 Axes>"
      ]
     },
     "metadata": {},
     "output_type": "display_data"
    }
   ],
   "source": [
    "# a. split\n",
    "nah1_true_grouped = nah1_true.groupby(['variable','unit'])\n",
    "nah1_true_grouped_first = nah1_true_grouped.value.first()\n",
    "nah1_true_grouped_first.name = 'first'\n",
    "\n",
    "# b. apply\n",
    "nah1_true.set_index(['variable','unit','year'],inplace=True)\n",
    "nah1_true = nah1_true.join(nah1_true_grouped_first,how='left',on=['variable','unit'])\n",
    "nah1_true.reset_index(inplace=True)\n",
    "\n",
    "# c. combine\n",
    "nah1_true['indexed'] = nah1_true['value']/nah1_true['first']\n",
    "\n",
    "# d. plot\n",
    "def plot(df):\n",
    "    df_indexed = df.set_index('year')\n",
    "    I = df_indexed.unit == 'real'\n",
    "    df_indexed[I].groupby(['variable'])['indexed'].plot(legend=True);\n",
    "    \n",
    "plot(nah1_true)"
   ]
  },
  {
   "cell_type": "markdown",
   "metadata": {},
   "source": [
    "**Question** Implement the same split-apply-combine as above using `transform`."
   ]
  },
  {
   "cell_type": "code",
   "execution_count": 14,
   "metadata": {},
   "outputs": [],
   "source": [
    "def first(x): # select the first element in a series\n",
    "    return x.iloc[0]\n",
    "\n",
    "# nah1_alt = nah1_final.copy()\n",
    "# grouped = nah1_alt.groupby(?)\n",
    "#nah1_alt[?] = ?.transform(lambda x: ?)\n",
    "#nah1_alt.head()"
   ]
  },
  {
   "cell_type": "markdown",
   "metadata": {},
   "source": [
    "**Answer:**"
   ]
  },
  {
   "cell_type": "code",
   "execution_count": 15,
   "metadata": {
    "jupyter": {
     "source_hidden": true
    }
   },
   "outputs": [
    {
     "data": {
      "text/html": [
       "<div>\n",
       "<style scoped>\n",
       "    .dataframe tbody tr th:only-of-type {\n",
       "        vertical-align: middle;\n",
       "    }\n",
       "\n",
       "    .dataframe tbody tr th {\n",
       "        vertical-align: top;\n",
       "    }\n",
       "\n",
       "    .dataframe thead th {\n",
       "        text-align: right;\n",
       "    }\n",
       "</style>\n",
       "<table border=\"1\" class=\"dataframe\">\n",
       "  <thead>\n",
       "    <tr style=\"text-align: right;\">\n",
       "      <th></th>\n",
       "      <th>variable</th>\n",
       "      <th>unit</th>\n",
       "      <th>year</th>\n",
       "      <th>value</th>\n",
       "      <th>first</th>\n",
       "      <th>indexed</th>\n",
       "      <th>index_transform</th>\n",
       "    </tr>\n",
       "  </thead>\n",
       "  <tbody>\n",
       "    <tr>\n",
       "      <th>0</th>\n",
       "      <td>Y</td>\n",
       "      <td>real</td>\n",
       "      <td>1966</td>\n",
       "      <td>1089347.0</td>\n",
       "      <td>1089347.0</td>\n",
       "      <td>1.0</td>\n",
       "      <td>1.0</td>\n",
       "    </tr>\n",
       "    <tr>\n",
       "      <th>1</th>\n",
       "      <td>Y</td>\n",
       "      <td>nominal</td>\n",
       "      <td>1966</td>\n",
       "      <td>144582.0</td>\n",
       "      <td>144582.0</td>\n",
       "      <td>1.0</td>\n",
       "      <td>1.0</td>\n",
       "    </tr>\n",
       "    <tr>\n",
       "      <th>2</th>\n",
       "      <td>C</td>\n",
       "      <td>real</td>\n",
       "      <td>1966</td>\n",
       "      <td>549491.0</td>\n",
       "      <td>549491.0</td>\n",
       "      <td>1.0</td>\n",
       "      <td>1.0</td>\n",
       "    </tr>\n",
       "    <tr>\n",
       "      <th>3</th>\n",
       "      <td>C</td>\n",
       "      <td>nominal</td>\n",
       "      <td>1966</td>\n",
       "      <td>62576.0</td>\n",
       "      <td>62576.0</td>\n",
       "      <td>1.0</td>\n",
       "      <td>1.0</td>\n",
       "    </tr>\n",
       "    <tr>\n",
       "      <th>4</th>\n",
       "      <td>G</td>\n",
       "      <td>real</td>\n",
       "      <td>1966</td>\n",
       "      <td>171307.0</td>\n",
       "      <td>171307.0</td>\n",
       "      <td>1.0</td>\n",
       "      <td>1.0</td>\n",
       "    </tr>\n",
       "  </tbody>\n",
       "</table>\n",
       "</div>"
      ],
      "text/plain": [
       "  variable     unit  year      value      first  indexed  index_transform\n",
       "0        Y     real  1966  1089347.0  1089347.0      1.0              1.0\n",
       "1        Y  nominal  1966   144582.0   144582.0      1.0              1.0\n",
       "2        C     real  1966   549491.0   549491.0      1.0              1.0\n",
       "3        C  nominal  1966    62576.0    62576.0      1.0              1.0\n",
       "4        G     real  1966   171307.0   171307.0      1.0              1.0"
      ]
     },
     "execution_count": 15,
     "metadata": {},
     "output_type": "execute_result"
    }
   ],
   "source": [
    "nah1_true_alt = nah1_true.copy()\n",
    "grouped = nah1_true_alt.groupby(['variable','unit'])\n",
    "nah1_true_alt['index_transform'] = grouped['value'].transform(lambda x: x/first(x))\n",
    "nah1_true_alt.head()"
   ]
  },
  {
   "cell_type": "markdown",
   "metadata": {},
   "source": [
    "# Problem: The Housing market\n"
   ]
  },
  {
   "cell_type": "markdown",
   "metadata": {},
   "source": [
    "## Housing data"
   ]
  },
  {
   "cell_type": "markdown",
   "metadata": {},
   "source": [
    "**Note:** The file `data/bm010_parcel.xlsx` has been downloaded from http://rkr.statistikbank.dk/201.\n",
    "\n",
    "**Question:** Go through the cell below and ensure you understand ALL commands."
   ]
  },
  {
   "cell_type": "code",
   "execution_count": 16,
   "metadata": {},
   "outputs": [
    {
     "data": {
      "text/html": [
       "<div>\n",
       "<style scoped>\n",
       "    .dataframe tbody tr th:only-of-type {\n",
       "        vertical-align: middle;\n",
       "    }\n",
       "\n",
       "    .dataframe tbody tr th {\n",
       "        vertical-align: top;\n",
       "    }\n",
       "\n",
       "    .dataframe thead th {\n",
       "        text-align: right;\n",
       "    }\n",
       "</style>\n",
       "<table border=\"1\" class=\"dataframe\">\n",
       "  <thead>\n",
       "    <tr style=\"text-align: right;\">\n",
       "      <th></th>\n",
       "      <th>municipality</th>\n",
       "      <th>price</th>\n",
       "      <th>date</th>\n",
       "    </tr>\n",
       "  </thead>\n",
       "  <tbody>\n",
       "    <tr>\n",
       "      <th>0</th>\n",
       "      <td>Hele landet</td>\n",
       "      <td>4021.0</td>\n",
       "      <td>1992-01-01</td>\n",
       "    </tr>\n",
       "    <tr>\n",
       "      <th>1</th>\n",
       "      <td>Region Hovedstaden</td>\n",
       "      <td>5836.0</td>\n",
       "      <td>1992-01-01</td>\n",
       "    </tr>\n",
       "    <tr>\n",
       "      <th>2</th>\n",
       "      <td>Landsdel København by</td>\n",
       "      <td>5658.0</td>\n",
       "      <td>1992-01-01</td>\n",
       "    </tr>\n",
       "    <tr>\n",
       "      <th>3</th>\n",
       "      <td>København</td>\n",
       "      <td>5355.0</td>\n",
       "      <td>1992-01-01</td>\n",
       "    </tr>\n",
       "    <tr>\n",
       "      <th>4</th>\n",
       "      <td>Frederiksberg</td>\n",
       "      <td>5183.0</td>\n",
       "      <td>1992-01-01</td>\n",
       "    </tr>\n",
       "  </tbody>\n",
       "</table>\n",
       "</div>"
      ],
      "text/plain": [
       "            municipality   price       date\n",
       "0            Hele landet  4021.0 1992-01-01\n",
       "1     Region Hovedstaden  5836.0 1992-01-01\n",
       "2  Landsdel København by  5658.0 1992-01-01\n",
       "3              København  5355.0 1992-01-01\n",
       "4          Frederiksberg  5183.0 1992-01-01"
      ]
     },
     "execution_count": 16,
     "metadata": {},
     "output_type": "execute_result"
    }
   ],
   "source": [
    "# a. load data\n",
    "prices = pd.read_excel('data/bm010_parcel.xlsx', skiprows=2)\n",
    "prices.rename(columns={'Unnamed: 2': 'municipality'}, inplace=True)\n",
    "\n",
    "# b. delete columns\n",
    "del prices['Unnamed: 0']\n",
    "del prices['Unnamed: 1']\n",
    "\n",
    "# c. rename time columns: 1992K1 -> price19921\n",
    "time_dict = {} \n",
    "for y in range(1992,2018+1): \n",
    "    for k in range(1,4+1): \n",
    "        str_from = f'{y}K{k}'\n",
    "        str_to   = f'price{y}{k}'\n",
    "        time_dict[str_from] = str_to\n",
    "prices = prices.rename(columns = time_dict)        \n",
    "\n",
    "# d. drop missing\n",
    "prices = prices.dropna()\n",
    "\n",
    "# e. convert to long\n",
    "prices_long = pd.wide_to_long(prices, stubnames='price', i='municipality', j='year_quarter')\n",
    "prices_long.reset_index(inplace=True)\n",
    "\n",
    "# f. drop missing and convert to float\n",
    "I = prices_long.loc[prices_long.price == '..']\n",
    "prices_long.drop(I.index, inplace=True)\n",
    "prices_long.price = prices_long.price.astype('float')\n",
    "\n",
    "# g. create date variable\n",
    "prices_long['d'] = (prices_long.year_quarter.astype(str).str[:4] # grab the year, first four digits\n",
    "          + 'Q' # add the letter Q \n",
    "          + prices_long.year_quarter.astype(str).str[4]) # the quarter (fifth digit)\n",
    "prices_long['date'] = pd.to_datetime(prices_long.d)\n",
    "\n",
    "# h. cleanup \n",
    "del prices_long['year_quarter']\n",
    "del prices_long['d']\n",
    "\n",
    "prices_long.head()"
   ]
  },
  {
   "cell_type": "markdown",
   "metadata": {},
   "source": [
    "## Population data"
   ]
  },
  {
   "cell_type": "markdown",
   "metadata": {},
   "source": [
    "**Question:** Go through the cell below and ensure you understand ALL commands."
   ]
  },
  {
   "cell_type": "code",
   "execution_count": 17,
   "metadata": {},
   "outputs": [
    {
     "data": {
      "text/html": [
       "<div>\n",
       "<style scoped>\n",
       "    .dataframe tbody tr th:only-of-type {\n",
       "        vertical-align: middle;\n",
       "    }\n",
       "\n",
       "    .dataframe tbody tr th {\n",
       "        vertical-align: top;\n",
       "    }\n",
       "\n",
       "    .dataframe thead th {\n",
       "        text-align: right;\n",
       "    }\n",
       "</style>\n",
       "<table border=\"1\" class=\"dataframe\">\n",
       "  <thead>\n",
       "    <tr style=\"text-align: right;\">\n",
       "      <th></th>\n",
       "      <th>municipality</th>\n",
       "      <th>population</th>\n",
       "      <th>date</th>\n",
       "    </tr>\n",
       "  </thead>\n",
       "  <tbody>\n",
       "    <tr>\n",
       "      <th>0</th>\n",
       "      <td>Brøndby</td>\n",
       "      <td>35050</td>\n",
       "      <td>2015-01-01</td>\n",
       "    </tr>\n",
       "    <tr>\n",
       "      <th>1</th>\n",
       "      <td>Brøndby</td>\n",
       "      <td>34084</td>\n",
       "      <td>2012-01-01</td>\n",
       "    </tr>\n",
       "    <tr>\n",
       "      <th>2</th>\n",
       "      <td>Hvidovre</td>\n",
       "      <td>51270</td>\n",
       "      <td>2012-10-01</td>\n",
       "    </tr>\n",
       "    <tr>\n",
       "      <th>3</th>\n",
       "      <td>Gentofte</td>\n",
       "      <td>75365</td>\n",
       "      <td>2016-04-01</td>\n",
       "    </tr>\n",
       "    <tr>\n",
       "      <th>4</th>\n",
       "      <td>Brøndby</td>\n",
       "      <td>33856</td>\n",
       "      <td>2010-07-01</td>\n",
       "    </tr>\n",
       "  </tbody>\n",
       "</table>\n",
       "</div>"
      ],
      "text/plain": [
       "  municipality  population       date\n",
       "0      Brøndby       35050 2015-01-01\n",
       "1      Brøndby       34084 2012-01-01\n",
       "2     Hvidovre       51270 2012-10-01\n",
       "3     Gentofte       75365 2016-04-01\n",
       "4      Brøndby       33856 2010-07-01"
      ]
     },
     "execution_count": 17,
     "metadata": {},
     "output_type": "execute_result"
    }
   ],
   "source": [
    "# a. load data\n",
    "pop = dst.get_data(table_id='FOLK1A', variables={'Alder':['IALT'], 'CIVILSTAND':['TOT'], 'Køn':['TOT'], 'Tid':['*'], 'OMRÅDE':['*']})\n",
    "\n",
    "# b. drop and rename columns\n",
    "for v in ['ALDER', 'CIVILSTAND', 'KØN']: \n",
    "    del pop[v]\n",
    "pop = pop.rename(columns = {'INDHOLD':'population', 'OMRÅDE': 'municipality'})\n",
    "\n",
    "# c. drop non-municipalities\n",
    "for val in ['Region', 'All']: \n",
    "    I = pop['municipality'].str.contains(val)\n",
    "    pop.drop(pop[I].index, inplace=True)\n",
    "\n",
    "# d. convert to date\n",
    "pop['date'] = pd.to_datetime(pop.TID)\n",
    "del pop['TID']\n",
    "\n",
    "pop.head()"
   ]
  },
  {
   "cell_type": "markdown",
   "metadata": {},
   "source": [
    "## Analysis"
   ]
  },
  {
   "cell_type": "markdown",
   "metadata": {},
   "source": [
    "**Problem:** Analyze the co-variation betwen population growth and house price growth. Reproduce the graphs below. \n",
    "\n",
    "**Hint:** For the second one consider the `agg` method (similar to but different from `transform`, Google it)."
   ]
  },
  {
   "cell_type": "code",
   "execution_count": 18,
   "metadata": {},
   "outputs": [],
   "source": [
    "# write your code here "
   ]
  },
  {
   "cell_type": "markdown",
   "metadata": {},
   "source": [
    "**Answer:**"
   ]
  },
  {
   "cell_type": "code",
   "execution_count": 19,
   "metadata": {
    "jupyter": {
     "source_hidden": true
    }
   },
   "outputs": [
    {
     "data": {
      "image/png": "[encoded data removed]",
      "text/plain": [
       "<Figure size 432x288 with 1 Axes>"
      ]
     },
     "metadata": {},
     "output_type": "display_data"
    },
    {
     "data": {
      "image/png": "[encoded data removed]",
      "text/plain": [
       "<Figure size 432x288 with 1 Axes>"
      ]
     },
     "metadata": {},
     "output_type": "display_data"
    }
   ],
   "source": [
    "# a. merge\n",
    "full = pd.merge(pop, prices_long, on=['date','municipality'], how='left')\n",
    "full.sort_values(['municipality','date'], inplace=True)\n",
    "\n",
    "# b. take logs\n",
    "full['log_population'] =  np.log(full['population'])\n",
    "full['log_price'] =  np.log(full['price'])\n",
    "\n",
    "# c. figur 1: log differences\n",
    "ax = full.groupby('municipality').diff(1).plot(x = 'log_population', y = 'log_price', kind = 'scatter'); \n",
    "ax.set_xlabel('log difference in population') \n",
    "ax.set_ylabel('log difference in price')\n",
    "\n",
    "# c. figur 2: mean log differences\n",
    "ax = full.groupby('municipality').agg(lambda x: np.mean(x.diff())).plot(x = 'log_population', y = 'log_price', kind = 'scatter'); \n",
    "ax.set_xlabel('within-municipality mean log difference in population')\n",
    "ax.set_ylabel('within-municipality mean log difference in price'); "
   ]
  }
 ],
 "metadata": {
  "kernelspec": {
   "display_name": "Python 3",
   "language": "python",
   "name": "python3"
  },
  "language_info": {
   "codemirror_mode": {
    "name": "ipython",
    "version": 3
   },
   "file_extension": ".py",
   "mimetype": "text/x-python",
   "name": "python",
   "nbconvert_exporter": "python",
   "pygments_lexer": "ipython3",
   "version": "3.7.4"
  },
  "toc-autonumbering": true
 },
 "nbformat": 4,
 "nbformat_minor": 4
}
